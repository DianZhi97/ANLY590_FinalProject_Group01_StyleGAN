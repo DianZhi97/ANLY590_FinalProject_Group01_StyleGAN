{
 "cells": [
  {
   "cell_type": "markdown",
   "metadata": {},
   "source": [
    "### Import libraries"
   ]
  },
  {
   "cell_type": "code",
   "execution_count": 2,
   "metadata": {},
   "outputs": [],
   "source": [
    "import pickle\n",
    "import torch\n",
    "import numpy as np\n",
    "import matplotlib.pyplot as plt\n",
    "import PIL\n",
    "from tqdm import tqdm"
   ]
  },
  {
   "cell_type": "markdown",
   "metadata": {},
   "source": [
    "### Load the model\n",
    "\n",
    "##### G is the Generator and D is the Discriminator "
   ]
  },
  {
   "cell_type": "code",
   "execution_count": 3,
   "metadata": {},
   "outputs": [
    {
     "name": "stderr",
     "output_type": "stream",
     "text": [
      "d:\\Miniconda3\\envs\\stylegan3\\lib\\site-packages\\scipy\\__init__.py:146: UserWarning: A NumPy version >=1.16.5 and <1.23.0 is required for this version of SciPy (detected version 1.23.4\n",
      "  warnings.warn(f\"A NumPy version >={np_minversion} and <{np_maxversion}\"\n"
     ]
    }
   ],
   "source": [
    "with open('./training-runs/00001-stylegan3-r-celeb+arcane_64x64/network-snapshot-001402.pkl', 'rb') as fID:\n",
    "    model = pickle.load(fID)\n",
    "    G = model['G_ema'].cuda()  # torch.nn.Module\n",
    "    D = model['D'].cuda()  # torch.nn.Module"
   ]
  },
  {
   "cell_type": "markdown",
   "metadata": {},
   "source": [
    "### Utility functions that calls different part of the generator"
   ]
  },
  {
   "cell_type": "code",
   "execution_count": 4,
   "metadata": {},
   "outputs": [],
   "source": [
    "def latent2img(z, truncation_psi=1):\n",
    "    c = None\n",
    "    img = G(z, c, truncation_psi=truncation_psi)\n",
    "    img = (img.permute(0, 2, 3, 1) * 127.5 + 128).clamp(0, 255).to(torch.uint8)\n",
    "    return PIL.Image.fromarray(img[0].cpu().numpy(), 'RGB')\n",
    "\n",
    "def seed2latent(seed):\n",
    "    return torch.from_numpy(np.random.RandomState(seed).randn(1, G.z_dim)).cuda()\n",
    "\n",
    "def seed2img(seed, truncation_psi=1):\n",
    "    z = seed2latent(seed)\n",
    "    return latent2img(z, truncation_psi)"
   ]
  },
  {
   "cell_type": "markdown",
   "metadata": {},
   "source": [
    "### Manually select example imagesand generate the latent vector for them"
   ]
  },
  {
   "cell_type": "code",
   "execution_count": 7,
   "metadata": {},
   "outputs": [],
   "source": [
    "seed_list_1 = [1, 4, 8, 20, 21, 26, 27]\n",
    "seed_list_2 = [3, 12, 30, 31, 34, 35, 36]\n",
    "num_seed_1 = len(seed_list_1)\n",
    "num_seed_2 = len(seed_list_2)\n",
    "\n",
    "latent_list_1 = [seed2latent(seed) for seed in seed_list_1]\n",
    "latent_list_2 = [seed2latent(seed) for seed in seed_list_2]"
   ]
  },
  {
   "cell_type": "markdown",
   "metadata": {},
   "source": [
    "### Define a funcion that takes different truncation_psi and generate style mixing matrix plot "
   ]
  },
  {
   "cell_type": "code",
   "execution_count": 15,
   "metadata": {},
   "outputs": [],
   "source": [
    "def style_transfer_matrix(truncation_psi, scl_fctr=1.5):\n",
    "\n",
    "    fig, axes = plt.subplots(num_seed_1+1, num_seed_2+1, figsize=((num_seed_2+1)*scl_fctr, (num_seed_1+1)*scl_fctr))\n",
    "\n",
    "    for i in range(num_seed_1+1):\n",
    "        for j in range(num_seed_2+1):\n",
    "            if i == 0 and j == 0:\n",
    "                axes[i, j].axis('off')\n",
    "                axes[i, j].set_aspect('equal')\n",
    "                continue\n",
    "            if i == 0:\n",
    "                img = latent2img(latent_list_2[j-1], truncation_psi=truncation_psi)\n",
    "            elif j == 0:\n",
    "                img = latent2img(latent_list_1[i-1], truncation_psi=truncation_psi)\n",
    "            else:\n",
    "                img = latent2img((latent_list_1[i-1] + latent_list_2[j-1]) / 2, truncation_psi=truncation_psi)\n",
    "            axes[i, j].imshow(img)\n",
    "            axes[i, j].axis('off')\n",
    "            axes[i, j].set_aspect('equal')\n",
    "    plt.subplots_adjust(wspace=0.02, hspace=0.02)\n",
    "    fig.suptitle('truncation psi = {0:.2f}'.format(truncation_psi), fontsize=16, y=0.91)\n",
    "    fig.savefig('./results/changing_psi/style_transfer_matrix_truncpsi_{0:.2f}.png'.format(truncation_psi))\n",
    "    plt.close(fig)\n",
    "\n",
    "style_transfer_matrix(truncation_psi=0)"
   ]
  },
  {
   "cell_type": "markdown",
   "metadata": {},
   "source": [
    "### Run the style_transfer_matrix with different psi values and save images to folder"
   ]
  },
  {
   "cell_type": "code",
   "execution_count": 16,
   "metadata": {},
   "outputs": [
    {
     "name": "stderr",
     "output_type": "stream",
     "text": [
      "100%|██████████| 100/100 [04:14<00:00,  2.54s/it]\n"
     ]
    }
   ],
   "source": [
    "for psi in tqdm(np.arange(0, 1, 0.01)):\n",
    "    style_transfer_matrix(truncation_psi=psi)"
   ]
  },
  {
   "cell_type": "markdown",
   "metadata": {},
   "source": [
    "### Use the following code to generate transitions from one image to another"
   ]
  },
  {
   "cell_type": "code",
   "execution_count": 38,
   "metadata": {},
   "outputs": [],
   "source": [
    "truncation_psi = 0.5\n",
    "\n",
    "latent_diff = latent_list_2[2] - latent_list_1[0]\n",
    "\n",
    "steps = 36\n",
    "\n",
    "latent_diff_delta = latent_diff / steps\n",
    "\n",
    "for i in range(steps+1):\n",
    "    latent = latent_list_1[0] + i * latent_diff_delta\n",
    "    img = latent2img(latent, truncation_psi=truncation_psi)\n",
    "    fig, ax = plt.subplots()\n",
    "    ax.imshow(img)\n",
    "    ax.axis('off')\n",
    "    fig.savefig(f'./results/style_mixing/celeb+arcane_{str(i).zfill(2)}.png')\n",
    "    plt.close(fig)"
   ]
  }
 ],
 "metadata": {
  "kernelspec": {
   "display_name": "Python 3.9.13 ('stylegan3')",
   "language": "python",
   "name": "python3"
  },
  "language_info": {
   "codemirror_mode": {
    "name": "ipython",
    "version": 3
   },
   "file_extension": ".py",
   "mimetype": "text/x-python",
   "name": "python",
   "nbconvert_exporter": "python",
   "pygments_lexer": "ipython3",
   "version": "3.9.13"
  },
  "orig_nbformat": 4,
  "vscode": {
   "interpreter": {
    "hash": "358550c87f6b606d135f74292f3f3b63d3514ccf81677fd1d681bf1ca4efe2f1"
   }
  }
 },
 "nbformat": 4,
 "nbformat_minor": 2
}
