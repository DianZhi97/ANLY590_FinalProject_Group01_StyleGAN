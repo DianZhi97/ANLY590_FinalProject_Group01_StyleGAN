{
  "cells": [
    {
      "cell_type": "markdown",
      "metadata": {},
      "source": [
        "### Use face detection algorithm to locate the faces in the images"
      ]
    },
    {
      "cell_type": "code",
      "execution_count": null,
      "metadata": {
        "id": "xGZxrRcyLCIZ"
      },
      "outputs": [],
      "source": [
        "import cv2\n",
        "face_cascade = cv2.CascadeClassifier(cv2.data.haarcascades + 'haarcascade_frontalface_default.xml')\n",
        "\n",
        "def get_faces(img, minNeighbors=3, minSize=[256, 256]):\n",
        "  # convert into grayscale\n",
        "  gray = cv2.cvtColor(img, cv2.COLOR_BGR2GRAY)\n",
        "  # detect faces\n",
        "  faces = face_cascade.detectMultiScale(gray, 1.1, minNeighbors, minSize=minSize)\n",
        "  return faces"
      ]
    },
    {
      "cell_type": "markdown",
      "metadata": {},
      "source": [
        "### Define a function that takes a image and save each cropped face into image file"
      ]
    },
    {
      "cell_type": "code",
      "execution_count": null,
      "metadata": {
        "id": "McAbPEA8LCIc"
      },
      "outputs": [],
      "source": [
        "def crop_faces(img, faces, save_dir='./cropped_img/'):\n",
        "  for (x, y, w, h) in faces:\n",
        "    crop = img[y:y+h, x:x+w, :]\n",
        "    global COUNTER\n",
        "    cv2.imwrite(save_dir+str(COUNTER).zfill(5)+'.jpg', crop)\n",
        "    COUNTER += 1"
      ]
    },
    {
      "cell_type": "markdown",
      "metadata": {},
      "source": [
        "### Main part of the script where the whole cropping takes place"
      ]
    },
    {
      "cell_type": "code",
      "execution_count": null,
      "metadata": {
        "id": "V-bEsezOLCId",
        "outputId": "17baa606-b53e-4478-98c3-989bc3362f20"
      },
      "outputs": [
        {
          "name": "stderr",
          "output_type": "stream",
          "text": [
            "100%|██████████| 1020/1020 [00:01<00:00, 881.02it/s]\n"
          ]
        }
      ],
      "source": [
        "import glob\n",
        "from tqdm import tqdm\n",
        "import os\n",
        "\n",
        "COUNTER = 0\n",
        "\n",
        "# ============================================================\n",
        "source_dir = './celebrity_img/' # source image directory\n",
        "save_dir = './cropped_celebrity_img/' # save directory\n",
        "minNeighbors = 1 # make this smaller if you want to detect more faces or make this larger to avoid low quality detections\n",
        "minSize = [128, 128]\n",
        "# ============================================================\n",
        "\n",
        "if not os.path.exists(save_dir):\n",
        "  os.makedirs(save_dir)\n",
        "\n",
        "image_paths = glob.glob(source_dir+'*.jpg')\n",
        "\n",
        "for img_path in tqdm(image_paths):\n",
        "  # Read the input image\n",
        "  img = cv2.imread(img_path)\n",
        "\n",
        "  faces = get_faces(img, minNeighbors=minNeighbors, minSize=minSize)\n",
        "  \n",
        "  crop_faces(img, faces, save_dir=save_dir)"
      ]
    }
  ],
  "metadata": {
    "colab": {
      "provenance": []
    },
    "kernelspec": {
      "display_name": "Python 3.9.13 ('tensorflow')",
      "language": "python",
      "name": "python3"
    },
    "language_info": {
      "codemirror_mode": {
        "name": "ipython",
        "version": 3
      },
      "file_extension": ".py",
      "mimetype": "text/x-python",
      "name": "python",
      "nbconvert_exporter": "python",
      "pygments_lexer": "ipython3",
      "version": "3.9.13"
    },
    "orig_nbformat": 4,
    "vscode": {
      "interpreter": {
        "hash": "9f2e8d2fa7d405c7e05119acca257e5f5b30f84762ac4687e5c31d56b8a44993"
      }
    }
  },
  "nbformat": 4,
  "nbformat_minor": 0
}
